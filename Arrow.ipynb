{
 "cells": [
  {
   "cell_type": "code",
   "execution_count": 36,
   "metadata": {},
   "outputs": [],
   "source": [
    "import pyarrow as pa\n",
    "import pandas as pd\n",
    "import pyarrow.plasma as plasma\n",
    "import numpy as np\n",
    "from datetime import datetime\n",
    "\n",
    "df = pd.read_csv('midyear_population_age_country_code.csv')"
   ]
  },
  {
   "cell_type": "code",
   "execution_count": 37,
   "metadata": {},
   "outputs": [],
   "source": [
    "client = plasma.connect(\"/tmp/plasma\", \"\", 0)\n",
    "df = df.iloc[1000000:2500000]\n",
    "record_batch = pa.RecordBatch.from_pandas(df)"
   ]
  },
  {
   "cell_type": "code",
   "execution_count": 39,
   "metadata": {},
   "outputs": [
    {
     "name": "stdout",
     "output_type": "stream",
     "text": [
      "b'nD<\\r;\\x1e\\xc7\\xc0\\x83\\xf5oL\\xed/\\x9e\\xd7\\x1fc\\x08\\xb6'\n",
      "0:00:01.226766\n"
     ]
    }
   ],
   "source": [
    "startTime = datetime.now()\n",
    "object_id = plasma.ObjectID(np.random.bytes(20))\n",
    "mock_sink = pa.MockOutputStream()\n",
    "stream_writer = pa.RecordBatchStreamWriter(mock_sink, record_batch.schema)\n",
    "stream_writer.write_batch(record_batch)\n",
    "stream_writer.close()\n",
    "data_size = mock_sink.size()\n",
    "buf = client.create(object_id, data_size)\n",
    "stream = pa.FixedSizeBufferWriter(buf)\n",
    "stream_writer = pa.RecordBatchStreamWriter(stream, record_batch.schema)\n",
    "stream_writer.write_batch(record_batch)\n",
    "stream_writer.close()\n",
    "client.seal(object_id)\n",
    "print(object_id.binary())\n",
    "print(datetime.now() - startTime)"
   ]
  },
  {
   "cell_type": "code",
   "execution_count": 25,
   "metadata": {},
   "outputs": [
    {
     "name": "stdout",
     "output_type": "stream",
     "text": [
      "1000000\n"
     ]
    }
   ],
   "source": [
    "print(len(df))"
   ]
  },
  {
   "cell_type": "code",
   "execution_count": 40,
   "metadata": {},
   "outputs": [
    {
     "name": "stdout",
     "output_type": "stream",
     "text": [
      "1 loop, best of 3: 225 ms per loop\n"
     ]
    }
   ],
   "source": [
    "%%timeit\n",
    "df[(df['country_code'] == 'CV') & (df['year'] == 1993)& (df['sex'] == 'Female')]"
   ]
  }
 ],
 "metadata": {
  "kernelspec": {
   "display_name": "Python 3",
   "language": "python",
   "name": "python3"
  },
  "language_info": {
   "codemirror_mode": {
    "name": "ipython",
    "version": 3
   },
   "file_extension": ".py",
   "mimetype": "text/x-python",
   "name": "python",
   "nbconvert_exporter": "python",
   "pygments_lexer": "ipython3",
   "version": "3.6.1"
  }
 },
 "nbformat": 4,
 "nbformat_minor": 2
}
