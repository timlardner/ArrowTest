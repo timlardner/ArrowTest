{
 "cells": [
  {
   "cell_type": "code",
   "execution_count": 21,
   "metadata": {
    "collapsed": true
   },
   "outputs": [],
   "source": [
    "import pyarrow as pa\n",
    "import pyarrow.plasma as plasma\n",
    "import numpy as np\n",
    "import pandas as pd\n",
    "from datetime import datetime"
   ]
  },
  {
   "cell_type": "code",
   "execution_count": 22,
   "metadata": {},
   "outputs": [],
   "source": [
    "client = plasma.connect(\"/tmp/plasma\", \"\", 0)"
   ]
  },
  {
   "cell_type": "code",
   "execution_count": 23,
   "metadata": {},
   "outputs": [
    {
     "name": "stdout",
     "output_type": "stream",
     "text": [
      "0:00:01.555114\n"
     ]
    }
   ],
   "source": [
    "startTime = datetime.now()\n",
    "object_id = plasma.ObjectID(b'nD<\\r;\\x1e\\xc7\\xc0\\x83\\xf5oL\\xed/\\x9e\\xd7\\x1fc\\x08\\xb6')\n",
    "[data] = client.get_buffers([object_id])  # Get PlasmaBuffer from ObjectID\n",
    "buffer = pa.BufferReader(data)\n",
    "reader = pa.RecordBatchStreamReader(buffer)\n",
    "record_batch = reader.read_next_batch()\n",
    "result = record_batch.to_pandas()\n",
    "diff = datetime.now() - startTime\n",
    "print(diff)"
   ]
  },
  {
   "cell_type": "code",
   "execution_count": 25,
   "metadata": {},
   "outputs": [
    {
     "name": "stdout",
     "output_type": "stream",
     "text": [
      "1 loop, best of 3: 208 ms per loop\n"
     ]
    }
   ],
   "source": [
    "%%timeit\n",
    "df = result\n",
    "df[(df['country_code'] == 'CV') & (df['year'] == 1993)& (df['sex'] == 'Female')]"
   ]
  }
 ],
 "metadata": {
  "kernelspec": {
   "display_name": "Python 3",
   "language": "python",
   "name": "python3"
  },
  "language_info": {
   "codemirror_mode": {
    "name": "ipython",
    "version": 3
   },
   "file_extension": ".py",
   "mimetype": "text/x-python",
   "name": "python",
   "nbconvert_exporter": "python",
   "pygments_lexer": "ipython3",
   "version": "3.6.1"
  }
 },
 "nbformat": 4,
 "nbformat_minor": 2
}
